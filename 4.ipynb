{
 "cells": [
  {
   "cell_type": "code",
   "execution_count": 6,
   "id": "816b5978-f611-4cee-861e-d48299a5bfa7",
   "metadata": {},
   "outputs": [
    {
     "name": "stdout",
     "output_type": "stream",
     "text": [
      "[[14 24 30]\n",
      " [ 0 14 24]\n",
      " [ 0  0 14]]\n"
     ]
    }
   ],
   "source": [
    "import numpy as np \n",
    "a_arr = np.array([[1, 1, 1], [0, 1, 1], [0, 0, 1]])\n",
    "b_arr = np.array([[7, 5, 3], [0, 7, 5], [0, 0, 7]])\n",
    "c = b_arr.dot(a_arr) + a_arr.dot(b_arr) \n",
    "print(c)"
   ]
  },
  {
   "cell_type": "code",
   "execution_count": 7,
   "id": "afa0ac75-82ae-482a-b313-183311c80058",
   "metadata": {},
   "outputs": [
    {
     "name": "stdout",
     "output_type": "stream",
     "text": [
      "[[25  0  0  0]\n",
      " [ 0  4  0  0]\n",
      " [ 0  0  9  0]\n",
      " [ 0  0  0  4]]\n"
     ]
    }
   ],
   "source": [
    "import numpy as np \n",
    "arr = np.array([[5,0,0,0], [0, -2,0,0],[0,0,3,0],[0,0,0,2]])\n",
    "power= np.dot(arr,arr)\n",
    "print(power)\n"
   ]
  },
  {
   "cell_type": "code",
   "execution_count": 8,
   "id": "7b3234ca-db62-4652-901b-2c2f3d0bceb7",
   "metadata": {},
   "outputs": [
    {
     "name": "stdout",
     "output_type": "stream",
     "text": [
      "[31 12  9]\n"
     ]
    }
   ],
   "source": [
    "matrix_1 = np.array([[3,0,7], [-4,2,3],[-1,1,2]])\n",
    "matrix_2 = np.array([1,2,4])\n",
    "matrix_3 = matrix_1.dot(matrix_2)\n",
    "print(matrix_3) \n"
   ]
  },
  {
   "cell_type": "code",
   "execution_count": 9,
   "id": "7337e00b-7545-495a-b223-9a6485e0414d",
   "metadata": {},
   "outputs": [
    {
     "name": "stdout",
     "output_type": "stream",
     "text": [
      "12\n"
     ]
    }
   ],
   "source": [
    "import numpy as np \n",
    "arr_a = np.array([[0, 2, 0], [3, 4, 5], [6, 7, 8]])\n",
    "a_det = np.linalg.det(arr_a)\n",
    "print(format(a_det,'.9g')) \n"
   ]
  },
  {
   "cell_type": "code",
   "execution_count": 10,
   "id": "34ce5b1c-d380-47fa-8ae9-af2dc0addc45",
   "metadata": {},
   "outputs": [
    {
     "name": "stdout",
     "output_type": "stream",
     "text": [
      "-160\n"
     ]
    }
   ],
   "source": [
    "import numpy as np \n",
    "a_arr = np.array([[2,3,4,1], [1,2,3,4], [3,4,1,2], [4,1,2,3]])\n",
    "a_det = np.linalg.det(a_arr)\n",
    "print(format(a_det,'.9g'))\n"
   ]
  },
  {
   "cell_type": "code",
   "execution_count": 11,
   "id": "a35ef8fb-7bda-4856-9ccf-a6c83f57f81b",
   "metadata": {},
   "outputs": [
    {
     "name": "stdout",
     "output_type": "stream",
     "text": [
      "[[  1.  -1.   1.]\n",
      " [-38.  41. -34.]\n",
      " [ 27. -29.  24.]]\n"
     ]
    }
   ],
   "source": [
    "a = np.array([[2, 5, 7], [6, 3, 4], [5, -2, -3]])\n",
    "a_inv = np.linalg.inv(a) \n",
    "print(a_inv)\n"
   ]
  },
  {
   "cell_type": "code",
   "execution_count": 12,
   "id": "87c81ef6-aa82-40d1-a883-102c947b527c",
   "metadata": {},
   "outputs": [
    {
     "name": "stdout",
     "output_type": "stream",
     "text": [
      "4\n"
     ]
    }
   ],
   "source": [
    "aa = np.array([[2,-1,3,4], [0,-1,2,1], [1,1,-1,2], [2,3,-5,3]])\n",
    "rank = np.linalg.matrix_rank(aa) \n",
    "print(rank)\n"
   ]
  },
  {
   "cell_type": "code",
   "execution_count": 13,
   "id": "7bb70a2c-e8a8-4f37-8049-e67e47c103eb",
   "metadata": {},
   "outputs": [
    {
     "name": "stdout",
     "output_type": "stream",
     "text": [
      "A= [[4 1 4]\n",
      " [1 1 2]\n",
      " [2 1 2]]\n",
      "B= [[-2]\n",
      " [-2]\n",
      " [ 0]]\n",
      "[[ 0.  -1.   1. ]\n",
      " [-1.   0.   2. ]\n",
      " [ 0.5  1.  -1.5]]\n",
      "X= [[ 2.]\n",
      " [ 2.]\n",
      " [-3.]]\n"
     ]
    }
   ],
   "source": [
    "A = np.matrix('4 1 4; 1 1 2; 2 1 2')\n",
    "B = np.matrix('-2; -2; 0')\n",
    "print('A=', A)\n",
    "print('B=',B)\n",
    "A_inv = np.linalg.inv(A)\n",
    "print(A_inv)\n",
    "X = A_inv.dot(B)\n",
    "print('X=',X)\n"
   ]
  },
  {
   "cell_type": "code",
   "execution_count": 14,
   "id": "f340a6d9-eda6-4821-a435-c5e2f2a74618",
   "metadata": {},
   "outputs": [
    {
     "name": "stdout",
     "output_type": "stream",
     "text": [
      "Solving a system of linear algebraic equations by Cramer*s method\n",
      "x= 2.0 y= 2.0 z= -3.0\n",
      "Checking the correctness of the solution\n",
      " [[ 2.]\n",
      " [ 2.]\n",
      " [-3.]]\n"
     ]
    }
   ],
   "source": [
    "a = np.matrix('4 1 4; 1 1 2; 2 1 2') \n",
    "b = np.matrix('-2; -2; 0') \n",
    "def kram(a,b): \n",
    "    det_a = np.linalg.det(a) \n",
    "    if det_a != 0: \n",
    "       a1 = np.matrix(a) \n",
    "       a2 = np.matrix(a) \n",
    "       a3 = np.matrix(a) \n",
    "       a1[:, 0] = b \n",
    "       a2[:, 1] = b \n",
    "       a3[:, 2] = b \n",
    "       x = np.linalg.det(a1)/det_a \n",
    "       y =np.linalg.det(a2)/det_a \n",
    "       z= np.linalg.det(a3)/det_a \n",
    "       print('Solving a system of linear algebraic equations by Cramer*s method') \n",
    "       print('x=',x.round(3),'y=',y.round(3),'z=',z.round(3))  \n",
    "    else: \n",
    "        print('Determinant equals zero, the system has no solutions') \n",
    "    return x,y,z \n",
    "kram(a,b) \n",
    "print('Checking the correctness of the solution\\n', np.linalg.solve(a,b).round(3))\n"
   ]
  },
  {
   "cell_type": "code",
   "execution_count": 15,
   "id": "35642f61-be0e-431a-afb3-9aa422ddfce5",
   "metadata": {},
   "outputs": [
    {
     "name": "stdout",
     "output_type": "stream",
     "text": [
      "[[0 0 0 4]\n",
      " [1 3 4 0]\n",
      " [1 1 0 2]]\n",
      "[1. 2. 1.]\n",
      "Найнижче середнє значення: 1.0\n"
     ]
    }
   ],
   "source": [
    "a = np.array(np.random.randint(0,5, size=(3,4)))\n",
    "average_rows = np.mean(a, axis=1)\n",
    "minimum = np.min(average_rows)\n",
    "print(a)\n",
    "print(average_rows)\n",
    "\n",
    "print('Найнижче середнє значення:', minimum)\n"
   ]
  },
  {
   "cell_type": "code",
   "execution_count": null,
   "id": "476d7321-3306-412c-a24c-8ae6200bdc91",
   "metadata": {},
   "outputs": [],
   "source": []
  }
 ],
 "metadata": {
  "kernelspec": {
   "display_name": "Python 3 (ipykernel)",
   "language": "python",
   "name": "python3"
  },
  "language_info": {
   "codemirror_mode": {
    "name": "ipython",
    "version": 3
   },
   "file_extension": ".py",
   "mimetype": "text/x-python",
   "name": "python",
   "nbconvert_exporter": "python",
   "pygments_lexer": "ipython3",
   "version": "3.11.5"
  }
 },
 "nbformat": 4,
 "nbformat_minor": 5
}
